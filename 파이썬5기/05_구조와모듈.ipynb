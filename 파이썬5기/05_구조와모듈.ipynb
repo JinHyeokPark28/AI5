{
 "cells": [
  {
   "cell_type": "code",
   "execution_count": 2,
   "metadata": {},
   "outputs": [],
   "source": [
    "# 모듈\n",
    "# module : def 함수의 객체와 참조가 같이 생성되며\n",
    "# 반환값을 설정해주지 않는다면 None을 반환하게 되어있다.\n",
    "\n",
    "# 모듈의 이름은 클래스의 이름이여\n",
    "# 사용하고자 하는 모듈의 메서드의 이름은\n",
    "# 모듈이 가지고 있는 속성 메서드의 이름이다.\n",
    "\n",
    "def example():\n",
    "    # 함수는 호출이 될때마다 '활성화레코드'라는게 생성이 된다.\n",
    "    # 따라서 기록에 저장이 되어지는 값들이 있는데 0x3Ed3982\n",
    "    # 그것들은 [반환값, 매개변수, 지역변수, 반환 주소(id)]\n",
    "    # 전부다 스택영역에 저장이 된다.\n",
    "    return None\n"
   ]
  },
  {
   "cell_type": "code",
   "execution_count": 3,
   "metadata": {},
   "outputs": [],
   "source": [
    "#  __init__.py\n",
    "# import 폴더이름.파일모듈명\n",
    "# 가끔 init 자체가 공란으로 되어져 있는 경우가 있다.\n",
    "# 이런 공란으로 되어져 있을 경우 __all__을 통해서 변수들을 정의해줘야 한다."
   ]
  },
  {
   "cell_type": "code",
   "execution_count": 4,
   "metadata": {},
   "outputs": [],
   "source": [
    "# __name__ : 모듈을 import할때 마다 __name__이라는 변수를 만들고 그곳에\n",
    "# 모듈을 저장해서 불러옵니다.\n",
    "# if __name__ == \"__main__\":\n",
    "#     main()"
   ]
  },
  {
   "cell_type": "code",
   "execution_count": 5,
   "metadata": {},
   "outputs": [
    {
     "data": {
      "text/plain": [
       "['C:\\\\Users\\\\SBSGAME\\\\Desktop\\\\Share\\\\박진혁\\\\파이썬5기',\n",
       " 'C:\\\\Users\\\\SBSGAME\\\\Anaconda3\\\\python37.zip',\n",
       " 'C:\\\\Users\\\\SBSGAME\\\\Anaconda3\\\\DLLs',\n",
       " 'C:\\\\Users\\\\SBSGAME\\\\Anaconda3\\\\lib',\n",
       " 'C:\\\\Users\\\\SBSGAME\\\\Anaconda3',\n",
       " '',\n",
       " 'C:\\\\Users\\\\SBSGAME\\\\Anaconda3\\\\lib\\\\site-packages',\n",
       " 'C:\\\\Users\\\\SBSGAME\\\\Anaconda3\\\\lib\\\\site-packages\\\\win32',\n",
       " 'C:\\\\Users\\\\SBSGAME\\\\Anaconda3\\\\lib\\\\site-packages\\\\win32\\\\lib',\n",
       " 'C:\\\\Users\\\\SBSGAME\\\\Anaconda3\\\\lib\\\\site-packages\\\\Pythonwin',\n",
       " 'C:\\\\Users\\\\SBSGAME\\\\Anaconda3\\\\lib\\\\site-packages\\\\IPython\\\\extensions',\n",
       " 'C:\\\\Users\\\\SBSGAME\\\\.ipython']"
      ]
     },
     "execution_count": 5,
     "metadata": {},
     "output_type": "execute_result"
    }
   ],
   "source": [
    "# sys module\n",
    "# 일반적으로 python이 가지고 있는 기본적인 System 모듈입니다.\n",
    "# sys module을 통해 인터프리터 모듈을 검사할 경로를 찾을 수 있게 해주는 메서드가 있다.\n",
    "import sys\n",
    "sys.path"
   ]
  },
  {
   "cell_type": "code",
   "execution_count": 10,
   "metadata": {},
   "outputs": [
    {
     "name": "stdout",
     "output_type": "stream",
     "text": [
      "1\n",
      "1\n",
      "2\n",
      "3\n",
      "5\n"
     ]
    }
   ],
   "source": [
    "# 반복자 : Generator\n",
    "# return & yield\n",
    "# iter & next\n",
    "# return : 반환값, 어떤 값을 반환한 뒤 메서드를 종료하고 호출자에게 제어를 반환\n",
    "# yield : 각 반환값을 반환한 뒤 반환 값이 모두 소진되었을 경우에만\n",
    "# 메서드를 종료, 최종값을 반환\n",
    "# iter : yield 키워드를 사용해서 코드 실행중 값을 반환\n",
    "# next() : 호출할때마다 어떤값을 추출한 뒤 yield가 가지고 있는 값을 반환\n",
    "\n",
    "# 피보나치 수열 메서드 형식으로 만들고\n",
    "# next를 통해 출력해보세요\n",
    "# 5개만\n",
    "# 쉬는시간 후 6시 10분까지 합니다.\n",
    "\n",
    "def fib():\n",
    "    a, b = 0, 1\n",
    "    while True:\n",
    "        yield b\n",
    "        a, b = b, a + b\n",
    "        \n",
    "if __name__ == \"__main__\":\n",
    "    f = fib()\n",
    "    print(next(f))\n",
    "    print(next(f))\n",
    "    print(next(f))\n",
    "    print(next(f))\n",
    "    print(next(f))"
   ]
  },
  {
   "cell_type": "code",
   "execution_count": 11,
   "metadata": {},
   "outputs": [
    {
     "data": {
      "text/plain": [
       "range(1, 10)"
      ]
     },
     "execution_count": 11,
     "metadata": {},
     "output_type": "execute_result"
    }
   ],
   "source": [
    "# range()\n",
    "# 숫자 리스트 생성\n",
    "# 숫자 시퀸스를 순회할 때 사용\n",
    "# range를 사용하기 위해서는 for문이나 while문을 사용해야 한다.\n",
    "range(1, 10)"
   ]
  },
  {
   "cell_type": "code",
   "execution_count": 12,
   "metadata": {},
   "outputs": [
    {
     "name": "stdout",
     "output_type": "stream",
     "text": [
      "(0, 1)\n",
      "(1, 2)\n",
      "(2, 3)\n",
      "(3, 4)\n",
      "(4, 5)\n",
      "(5, 6)\n",
      "(6, 7)\n",
      "(7, 8)\n",
      "(8, 9)\n",
      "(9, 10)\n"
     ]
    }
   ],
   "source": [
    "# enumerate()\n",
    "# 반복 가능한 객체의 인덱스 값과 해당 값을 튜플형태로 반환합니다.\n",
    "list1 = [1,2,3,4,5,6,7,8,9,10]\n",
    "for i in enumerate(list1):\n",
    "    print(i)"
   ]
  },
  {
   "cell_type": "code",
   "execution_count": 16,
   "metadata": {},
   "outputs": [
    {
     "name": "stdout",
     "output_type": "stream",
     "text": [
      "2 X 1 = 2\n",
      "2 X 2 = 4\n",
      "2 X 3 = 6\n",
      "2 X 4 = 8\n",
      "2 X 5 = 10\n",
      "2 X 6 = 12\n",
      "2 X 7 = 14\n",
      "2 X 8 = 16\n",
      "2 X 9 = 18\n",
      "\n",
      "3 X 1 = 3\n",
      "3 X 2 = 6\n",
      "3 X 3 = 9\n",
      "3 X 4 = 12\n",
      "3 X 5 = 15\n",
      "3 X 6 = 18\n",
      "3 X 7 = 21\n",
      "3 X 8 = 24\n",
      "3 X 9 = 27\n",
      "\n",
      "4 X 1 = 4\n",
      "4 X 2 = 8\n",
      "4 X 3 = 12\n",
      "4 X 4 = 16\n",
      "4 X 5 = 20\n",
      "4 X 6 = 24\n",
      "4 X 7 = 28\n",
      "4 X 8 = 32\n",
      "4 X 9 = 36\n",
      "\n",
      "5 X 1 = 5\n",
      "5 X 2 = 10\n",
      "5 X 3 = 15\n",
      "5 X 4 = 20\n",
      "5 X 5 = 25\n",
      "5 X 6 = 30\n",
      "5 X 7 = 35\n",
      "5 X 8 = 40\n",
      "5 X 9 = 45\n",
      "\n",
      "6 X 1 = 6\n",
      "6 X 2 = 12\n",
      "6 X 3 = 18\n",
      "6 X 4 = 24\n",
      "6 X 5 = 30\n",
      "6 X 6 = 36\n",
      "6 X 7 = 42\n",
      "6 X 8 = 48\n",
      "6 X 9 = 54\n",
      "\n",
      "7 X 1 = 7\n",
      "7 X 2 = 14\n",
      "7 X 3 = 21\n",
      "7 X 4 = 28\n",
      "7 X 5 = 35\n",
      "7 X 6 = 42\n",
      "7 X 7 = 49\n",
      "7 X 8 = 56\n",
      "7 X 9 = 63\n",
      "\n",
      "8 X 1 = 8\n",
      "8 X 2 = 16\n",
      "8 X 3 = 24\n",
      "8 X 4 = 32\n",
      "8 X 5 = 40\n",
      "8 X 6 = 48\n",
      "8 X 7 = 56\n",
      "8 X 8 = 64\n",
      "8 X 9 = 72\n",
      "\n",
      "9 X 1 = 9\n",
      "9 X 2 = 18\n",
      "9 X 3 = 27\n",
      "9 X 4 = 36\n",
      "9 X 5 = 45\n",
      "9 X 6 = 54\n",
      "9 X 7 = 63\n",
      "9 X 8 = 72\n",
      "9 X 9 = 81\n",
      "\n"
     ]
    }
   ],
   "source": [
    "# enumerate, range를사용해서 구구단 2단 9단까지 출력해주세요.\n",
    "list1 = [2,3,4,5,6,7,8,9]\n",
    "for index, num in enumerate(list1):\n",
    "    for mul in range(1, 10):\n",
    "        print(num, 'X', mul, '=', num * mul)\n",
    "    print()"
   ]
  },
  {
   "cell_type": "code",
   "execution_count": null,
   "metadata": {},
   "outputs": [],
   "source": [
    "# 다음주 비대면 수업\n",
    "# 저 출장 해외\n",
    "# 언제 아직 미정\n",
    "# 전부 디스코드 스크린 공유가 되어야 \n",
    "# 출석체크 인정\n",
    "# 팀뷰어"
   ]
  }
 ],
 "metadata": {
  "kernelspec": {
   "display_name": "Python 3",
   "language": "python",
   "name": "python3"
  },
  "language_info": {
   "codemirror_mode": {
    "name": "ipython",
    "version": 3
   },
   "file_extension": ".py",
   "mimetype": "text/x-python",
   "name": "python",
   "nbconvert_exporter": "python",
   "pygments_lexer": "ipython3",
   "version": "3.7.3"
  }
 },
 "nbformat": 4,
 "nbformat_minor": 2
}
