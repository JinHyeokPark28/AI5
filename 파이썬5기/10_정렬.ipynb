{
 "cells": [
  {
   "cell_type": "code",
   "execution_count": 1,
   "metadata": {},
   "outputs": [],
   "source": [
    "# 2차 정렬\n",
    "# 어떤 항목들로 이루언진 한 그룹의크기가 작은 순서대로 정렬하고 싶을때 사용함\n",
    "# 어떤 가장 작은 항목을 그룹에서 맨 아픙로 이동시킨는 것이 가장 쉽습니다.\n",
    "# 시간복잡도 : O(n ^ 2)\n",
    "# 우리는 항상 효율이 더 좋은 알고리즘을 찾아야 한다"
   ]
  },
  {
   "cell_type": "code",
   "execution_count": 2,
   "metadata": {},
   "outputs": [
    {
     "name": "stdout",
     "output_type": "stream",
     "text": [
      "[10, 2, 4, 6, 7, 11, 4]\n",
      "[2, 10, 4, 6, 7, 11, 4]\n",
      "[2, 4, 10, 6, 7, 11, 4]\n",
      "[2, 4, 4, 6, 7, 11, 10]\n",
      "[2, 4, 4, 6, 7, 11, 10]\n",
      "[2, 4, 4, 6, 7, 11, 10]\n",
      "[2, 4, 4, 6, 7, 10, 11]\n",
      "[2, 4, 4, 6, 7, 10, 11]\n",
      "[2, 4, 4, 6, 7, 10, 11]\n"
     ]
    }
   ],
   "source": [
    "# 선택정렬\n",
    "#li1 = [10, 2, 4, 6, 7, 11, 4]\n",
    "# 절대 일반 sort를 사용하지 않기.\n",
    "# 클래스 형식으로 만들기.\n",
    "\n",
    "class selection_sort():\n",
    "    def __init__(self):\n",
    "        self.array = [10, 2, 4, 6, 7, 11, 4]\n",
    "        \n",
    "    def sort(self):\n",
    "        length = len(self.array)\n",
    "        for i in range(length):\n",
    "            minimum = i\n",
    "            for ii in range(minimum, length):\n",
    "                if self.array[ii] < self.array[minimum]:\n",
    "                    minimum = ii\n",
    "            self.array[i], self.array[minimum] = self.array[minimum], self.array[i]\n",
    "            print(self.array)\n",
    "\n",
    "if __name__ == \"__main__\":\n",
    "    ss = selection_sort()\n",
    "    print(ss.array)\n",
    "    ss.sort()\n",
    "    print(ss.array)\n",
    "            "
   ]
  },
  {
   "cell_type": "code",
   "execution_count": 4,
   "metadata": {},
   "outputs": [
    {
     "name": "stdout",
     "output_type": "stream",
     "text": [
      "[2, 4, 4, 6, 7, 10, 11]\n"
     ]
    }
   ],
   "source": [
    "# 시퀸스 방식을 사용해서\n",
    "# selection_sort를 만들어보세요.\n",
    "\n",
    "def selections_sort(seq):\n",
    "    length = len(seq)\n",
    "    for i in range(length - 1):\n",
    "        min_j = i\n",
    "        for j in range(i + 1, length):\n",
    "            if seq[min_j] > seq[j]:\n",
    "                min_j = j\n",
    "        seq[i], seq[min_j] = seq[min_j], seq[i]\n",
    "    return seq\n",
    "\n",
    "if __name__ == \"__main__\":\n",
    "    seq = [10, 2, 4, 6, 7, 11, 4]\n",
    "    ss = selections_sort(seq)\n",
    "    print(ss)"
   ]
  },
  {
   "cell_type": "code",
   "execution_count": 1,
   "metadata": {},
   "outputs": [
    {
     "name": "stdout",
     "output_type": "stream",
     "text": [
      "[3, 11, 28, 43, 9, 4, 10, 14]\n",
      "[3, 11, 28, 43, 9, 4, 10, 14]\n",
      "[3, 11, 28, 43, 9, 4, 10, 14]\n",
      "[3, 9, 11, 28, 43, 4, 10, 14]\n",
      "[3, 4, 9, 11, 28, 43, 10, 14]\n",
      "[3, 4, 9, 10, 11, 28, 43, 14]\n",
      "[3, 4, 9, 10, 11, 14, 28, 43]\n",
      "[3, 4, 9, 10, 11, 14, 28, 43]\n"
     ]
    }
   ],
   "source": [
    "# 삽입정렬 만들기\n",
    "def insertion_sort(seq):\n",
    "    for i in range(1, len(seq)):\n",
    "        # 임시로 만든 변수\n",
    "        j = i\n",
    "        while j > 0 and seq[j - 1] > seq[j]:\n",
    "            seq[j - 1], seq[j] = seq[j], seq[j - 1]\n",
    "            j -= 1\n",
    "        print(seq)\n",
    "    return seq\n",
    "\n",
    "if __name__ == \"__main__\":\n",
    "    seq = [11, 3, 28, 43, 9, 4, 10, 14]\n",
    "    ss = insertion_sort(seq)\n",
    "    print(ss)"
   ]
  },
  {
   "cell_type": "code",
   "execution_count": 3,
   "metadata": {},
   "outputs": [
    {
     "name": "stdout",
     "output_type": "stream",
     "text": [
      "[3, 11, 28, 43, 9, 4, 10, 14]\n",
      "[3, 11, 28, 43, 9, 4, 10, 14]\n",
      "[3, 11, 28, 43, 9, 4, 10, 14]\n",
      "[3, 9, 11, 28, 43, 4, 10, 14]\n",
      "[3, 4, 9, 11, 28, 43, 10, 14]\n",
      "[3, 4, 9, 10, 11, 28, 43, 14]\n",
      "[3, 4, 9, 10, 11, 14, 28, 43]\n",
      "[3, 4, 9, 10, 11, 14, 28, 43]\n"
     ]
    }
   ],
   "source": [
    "# 삽입정렬 -> 재귀함수\n",
    "\n",
    "def insertion_sort(seq, i=None):\n",
    "    if i is None:\n",
    "        i = len(seq) - 1\n",
    "    if i == 0:\n",
    "        return i\n",
    "    insertion_sort(seq, i - 1)\n",
    "        # 임시로 만든 변수\n",
    "    j = i\n",
    "    while j > 0 and seq[j - 1] > seq[j]:\n",
    "        seq[j - 1], seq[j] = seq[j], seq[j - 1]\n",
    "        j -= 1\n",
    "    print(seq)\n",
    "    return seq\n",
    "\n",
    "if __name__ == \"__main__\":\n",
    "    seq = [11, 3, 28, 43, 9, 4, 10, 14]\n",
    "    ss = insertion_sort(seq)\n",
    "    print(ss)"
   ]
  },
  {
   "cell_type": "code",
   "execution_count": 4,
   "metadata": {},
   "outputs": [
    {
     "name": "stdout",
     "output_type": "stream",
     "text": [
      "[11, 3, 28, 43, 9, 4, 10, 14]\n",
      "[3, 11, 28, 43, 9, 4, 10, 14]\n",
      "[3, 11, 28, 43, 9, 4, 10, 14]\n",
      "[3, 11, 28, 43, 9, 4, 10, 14]\n",
      "[3, 11, 28, 43, 9, 4, 10, 14]\n",
      "[3, 11, 28, 43, 9, 4, 10, 14]\n",
      "[3, 11, 28, 9, 43, 4, 10, 14]\n",
      "[3, 11, 9, 28, 43, 4, 10, 14]\n",
      "[3, 9, 11, 28, 43, 4, 10, 14]\n",
      "[3, 9, 11, 28, 43, 4, 10, 14]\n",
      "[3, 9, 11, 28, 43, 4, 10, 14]\n",
      "[3, 9, 11, 28, 43, 4, 10, 14]\n",
      "[3, 9, 11, 28, 43, 4, 10, 14]\n",
      "[3, 9, 11, 28, 4, 43, 10, 14]\n",
      "[3, 9, 11, 4, 28, 43, 10, 14]\n",
      "[3, 9, 4, 11, 28, 43, 10, 14]\n",
      "[3, 4, 9, 11, 28, 43, 10, 14]\n",
      "[3, 4, 9, 11, 28, 43, 10, 14]\n",
      "[3, 4, 9, 11, 28, 43, 10, 14]\n",
      "[3, 4, 9, 11, 28, 43, 10, 14]\n",
      "[3, 4, 9, 11, 28, 43, 10, 14]\n",
      "[3, 4, 9, 11, 28, 43, 10, 14]\n",
      "[3, 4, 9, 11, 28, 10, 43, 14]\n",
      "[3, 4, 9, 11, 10, 28, 43, 14]\n",
      "[3, 4, 9, 10, 11, 28, 43, 14]\n",
      "[3, 4, 9, 10, 11, 28, 43, 14]\n",
      "[3, 4, 9, 10, 11, 28, 43, 14]\n",
      "[3, 4, 9, 10, 11, 28, 43, 14]\n",
      "[3, 4, 9, 10, 11, 28, 43, 14]\n",
      "[3, 4, 9, 10, 11, 28, 14, 43]\n",
      "[3, 4, 9, 10, 11, 14, 28, 43]\n",
      "[3, 4, 9, 10, 11, 14, 28, 43]\n",
      "[3, 4, 9, 10, 11, 14, 28, 43]\n",
      "[3, 4, 9, 10, 11, 14, 28, 43]\n",
      "[3, 4, 9, 10, 11, 14, 28, 43]\n"
     ]
    }
   ],
   "source": [
    "# 난쟁이 정렬\n",
    "# 정렬할 배열의 처음 기준 자리 1부터 시작합니다.\n",
    "# 오름차순일 경우에 왼쪽값이 더 크다면 두값의 자리를 변경\n",
    "# index를 하나 낮춰서 같은 작업을 반복\n",
    "# 만일 왼쪽 자리가 더 작다면 index를 하나 높여서 같은 작업을 반복\n",
    "def gnome_sort(seq):\n",
    "    i = 0\n",
    "    while i < len(seq):\n",
    "        if i == 0 or seq[i - 1] <= seq[i]:\n",
    "            i += 1\n",
    "        else:\n",
    "            seq[i], seq[i - 1] = seq[i - 1], seq[i]\n",
    "            i -= 1\n",
    "        print(seq)\n",
    "    return seq\n",
    "if __name__ == \"__main__\":\n",
    "    seq = [11, 3, 28, 43, 9, 4, 10, 14]\n",
    "    ss = gnome_sort(seq)\n",
    "    print(ss)"
   ]
  },
  {
   "cell_type": "code",
   "execution_count": 5,
   "metadata": {},
   "outputs": [
    {
     "name": "stdout",
     "output_type": "stream",
     "text": [
      "[0, 1, 1, 2, 2, 3, 3, 3, 4, 5, 5, 5, 5, 6, 6, 8]\n"
     ]
    }
   ],
   "source": [
    "from collections import defaultdict\n",
    "# 카운팅 정렬\n",
    "\n",
    "def count_sort(a):\n",
    "    b, c = [], defaultdict(list)\n",
    "    for x in a:\n",
    "        c[x].append(x)\n",
    "    for k in range(min(c), max(c) + 1):\n",
    "        b.extend(c[k])\n",
    "    return b\n",
    "\n",
    "if __name__ == \"__main__\":\n",
    "    seq = [3, 5, 2, 6, 8, 1, 0, 3, 5, 6, 2, 5, 4, 1, 5, 3]\n",
    "    ss = count_sort(seq)\n",
    "    print(ss)\n",
    "\n",
    "\n"
   ]
  },
  {
   "cell_type": "code",
   "execution_count": 2,
   "metadata": {},
   "outputs": [
    {
     "name": "stdout",
     "output_type": "stream",
     "text": [
      "[1, 2, 2, 3, 4, 4, 5, 6, 6, 7, 8]\n"
     ]
    }
   ],
   "source": [
    "# 로그 선형 정렬\n",
    "# sort() : 원본 리스트를 정렬된 상태로 변환\n",
    "# sorted() : 원본의 변경없이 새로운 리스트를 반환\n",
    "# 선택적인수가 있어서 다양하게 사용할 수 있습니다.\n",
    "# reversed, key=len(문자열 길이 기준), key=lower(대소문자)\n",
    "\n",
    "# 병합정렬(합병정렬)\n",
    "# 리스트를 반으로 나눕니다.\n",
    "# 정렬되 않은 리스트를 만듭니다.\n",
    "# 정렬되지 않응 두 리스트가 1이 될때까지\n",
    "# 계속 리스트를 반으로 나눠서 병합 정렬 알고리즘을 호출하고 리스트를 정렬합니다.\n",
    "# 사용하는 이유는 안정적이고 대규모 데이터에 맞게 속도가 빠릅니다.\n",
    "\n",
    "def merge(left, right):\n",
    "    if not left or not right:\n",
    "        return left or right\n",
    "    result = []\n",
    "    while left and right:\n",
    "        if left[-1] >= right[-1]:\n",
    "            result.append(left.pop())\n",
    "        else:\n",
    "            result.append(right.pop())\n",
    "    result.reverse()\n",
    "    return (left or right) + result\n",
    "\n",
    "if __name__ == \"__main__\":\n",
    "    l1 = [1,2,3,4,5,6,7]\n",
    "    l2 = [2,4,6,8]\n",
    "    print(merge(l1, l2))"
   ]
  },
  {
   "cell_type": "code",
   "execution_count": 3,
   "metadata": {},
   "outputs": [
    {
     "name": "stdout",
     "output_type": "stream",
     "text": [
      "[1, 2, 3, 3, 4, 5, 7, 7, 7, 8, 10, 33]\n"
     ]
    }
   ],
   "source": [
    "# 시퀸스를 이용해서 위의 merge와  똑같이 만들면 됩니다!\n",
    "\n",
    "def merge_sort(seq):\n",
    "    if len(seq) < 2:\n",
    "        return seq\n",
    "    mid = len(seq) // 2\n",
    "    left = merge_sort(seq[:mid])\n",
    "    right = merge_sort(seq[mid:])\n",
    "    return (merge(left, right))\n",
    "\n",
    "if __name__ == \"__main__\":\n",
    "    l1 = [3, 7, 5, 3, 7, 8, 1, 2, 4, 7, 10, 33]\n",
    "    print(merge_sort(l1))"
   ]
  },
  {
   "cell_type": "code",
   "execution_count": null,
   "metadata": {},
   "outputs": [],
   "source": []
  }
 ],
 "metadata": {
  "kernelspec": {
   "display_name": "Python 3",
   "language": "python",
   "name": "python3"
  },
  "language_info": {
   "codemirror_mode": {
    "name": "ipython",
    "version": 3
   },
   "file_extension": ".py",
   "mimetype": "text/x-python",
   "name": "python",
   "nbconvert_exporter": "python",
   "pygments_lexer": "ipython3",
   "version": "3.8.5"
  }
 },
 "nbformat": 4,
 "nbformat_minor": 4
}
