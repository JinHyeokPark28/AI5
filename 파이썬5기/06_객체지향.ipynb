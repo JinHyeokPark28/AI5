{
 "cells": [
  {
   "cell_type": "code",
   "execution_count": 2,
   "metadata": {},
   "outputs": [
    {
     "data": {
      "text/plain": [
       "Circle(x=13, y=84, radius=9)"
      ]
     },
     "execution_count": 2,
     "metadata": {},
     "output_type": "execute_result"
    }
   ],
   "source": [
    "# 컬렉션을 통한 객체 정의\n",
    "import collections\n",
    "# 원 객체\n",
    "circle = collections.namedtuple('Circle', 'x y radius')\n",
    "# 객체정보\n",
    "circle\n",
    "circle= circle(13, 84, 9)\n",
    "circle\n"
   ]
  },
  {
   "cell_type": "code",
   "execution_count": 3,
   "metadata": {},
   "outputs": [
    {
     "data": {
      "text/plain": [
       "<__main__.tempClass at 0x1295fe195f8>"
      ]
     },
     "execution_count": 3,
     "metadata": {},
     "output_type": "execute_result"
    }
   ],
   "source": [
    "# 클래스 : 사전에 정의된 특별한 데이터와 메서드의 집합\n",
    "# 클래스에 선언된 실체 -> [객체]\n",
    "# 객체가 메모리에 할당이 되어서 사용이 될때 [인스턴스]\n",
    "# 정리\n",
    "# 객체는 인스턴스를 포함을 하며 전체적으로 포괄적인 의미로 사용이 된다.\n",
    "\n",
    "class tempClass:\n",
    "    # 메서드\n",
    "    \n",
    "    # 메서드\n",
    "    \n",
    "    # 메서드\n",
    "    \n",
    "    pass\n",
    "\n",
    "temp = tempClass()\n",
    "temp"
   ]
  },
  {
   "cell_type": "code",
   "execution_count": 4,
   "metadata": {},
   "outputs": [],
   "source": [
    "# 클래스의 인스턴스 생성?\n",
    "# 함수 표기법을 사용해서 [초기상태]로 만듭니다.\n",
    "# 인스턴스 생성 작업은 어떤 특징을 가진 비어있는 객체를 만들어주는 작업\n",
    "# 여러이름을 같은 객체에 바인딩(에일리어싱)할 수 있다.\n",
    "# 처음에 클래스를 호출 할때 객체가 생성이되는데 이 때 클래스를[생성자]라고 합니다.\n",
    "# class Hello :\n",
    "# new() -> __init__\n",
    "\n",
    "# 클래스의 속성\n",
    "# 데이터, 메서드로 이루어진 것들 -> 속성\n",
    "# 클래스 속성\n",
    "# 함수, 첫번째로 호출되는 인스턴스 자기 자신(self)\n",
    "# 속성은 점(.) 뒤에 나오는 모든 이름이며, 모듈내 모든이름의 참조는 속성참조\n",
    "# collections.Counter\n",
    "# collections : 모듈의 객체 이름\n",
    "# Counter : 객체속성(클래스 속성)\n",
    "\n",
    "# 속성은 읽기 전용, 쓰기 전용 두개로 나뉘어 져있으며\n",
    "# 쓰기 속성같은 경우 del를 통해서 삭제가 됩니다.\n",
    "\n",
    "# 네임스페이스\n",
    "# 이름을 객체로 매핑(영역설정)을 하는 것이다.\n",
    "# 파이썬 내의 대부분의 네임스페이스는 파이썬 딕셔너리 형태로 되어져 있습니다.\n",
    "# 네임스페이스 예)\n",
    "# Set, 모듈의 전역이름, 함수의 지역이름\n",
    "# 스크립트 파일 또는 대화식 인터프리터의 최상위 호출에 의해 실행되는 명령문은\n",
    "# __main__으로 모듈의 일부로 간주되기때문에 고유의 전역 네임스페이스를 갖는다.\n",
    "\n",
    "# 스코프\n",
    "# 네임 스페이스를 직접 접근할 수 있는 텍스트 영역\n",
    "# 주로 정적으로 결정이 되지만 동적으로 사용할 수 있다.\n",
    "# 스코프는 텍스트에 따라 결정이 되고\n",
    "# 한 모듈에 정의된 함수의 전역 스코프는 해당 모듈의 네임 스페이스 이다.\n",
    "# 클래스가 정의되면 새로운 네임스페이스가 만들어지고 그곳이 지역 스코프로 사용된다."
   ]
  },
  {
   "cell_type": "code",
   "execution_count": 5,
   "metadata": {},
   "outputs": [],
   "source": [
    "# 특수화\n",
    "# 슈퍼 클래스(Super Class) 또는 베이스 클래스(Base Class)라고 합니다.\n",
    "# 모든 속성을 상속받아 새로운 클래스를 만드는 절차를 말합니다.\n",
    "# 파이썬의 모든 메서드는 가상이며 상속의 관계는 'is - a'입니다.\n",
    "\n",
    "class Sample(object):\n",
    "    pass\n",
    "\n",
    "class Outer(object):\n",
    "    class Inner(object):\n",
    "        pass\n",
    "    pass\n",
    "\n",
    "\n",
    "class Sample:\n",
    "    pass\n",
    "\n",
    "class Outer:\n",
    "    class Inner:\n",
    "        pass\n",
    "    pass\n"
   ]
  },
  {
   "cell_type": "code",
   "execution_count": 6,
   "metadata": {},
   "outputs": [
    {
     "ename": "TypeError",
     "evalue": "unhashable type: 'Symbol'",
     "output_type": "error",
     "traceback": [
      "\u001b[1;31m---------------------------------------------------------------------------\u001b[0m",
      "\u001b[1;31mTypeError\u001b[0m                                 Traceback (most recent call last)",
      "\u001b[1;32m<ipython-input-6-ddf69a33edfc>\u001b[0m in \u001b[0;36m<module>\u001b[1;34m\u001b[0m\n\u001b[0;32m     20\u001b[0m \u001b[1;33m\u001b[0m\u001b[0m\n\u001b[0;32m     21\u001b[0m     \u001b[0msymbols\u001b[0m \u001b[1;33m=\u001b[0m \u001b[0mset\u001b[0m\u001b[1;33m(\u001b[0m\u001b[1;33m)\u001b[0m\u001b[1;33m\u001b[0m\u001b[1;33m\u001b[0m\u001b[0m\n\u001b[1;32m---> 22\u001b[1;33m     \u001b[0msymbols\u001b[0m\u001b[1;33m.\u001b[0m\u001b[0madd\u001b[0m\u001b[1;33m(\u001b[0m\u001b[0mx\u001b[0m\u001b[1;33m)\u001b[0m\u001b[1;33m\u001b[0m\u001b[1;33m\u001b[0m\u001b[0m\n\u001b[0m\u001b[0;32m     23\u001b[0m     \u001b[0msymbols\u001b[0m\u001b[1;33m.\u001b[0m\u001b[0madd\u001b[0m\u001b[1;33m(\u001b[0m\u001b[0my\u001b[0m\u001b[1;33m)\u001b[0m\u001b[1;33m\u001b[0m\u001b[1;33m\u001b[0m\u001b[0m\n\u001b[0;32m     24\u001b[0m \u001b[1;33m\u001b[0m\u001b[0m\n",
      "\u001b[1;31mTypeError\u001b[0m: unhashable type: 'Symbol'"
     ]
    }
   ],
   "source": [
    "# 다형성\n",
    "# 동적 메서드 바인딩\n",
    "# 메서드가 서브 클래스 내에서 재정의 될 수 있는 원리\n",
    "# 즉 서브 클래스 객체에서 슈퍼 클래스의 동명의 메서드를 호출해서\n",
    "# 파이썬은 서브 클래스에 정의된 메서드를 사요합니다.\n",
    "# 슈퍼클래스내 메서드를 호출한다면 super()라는 키워드를 사용해서 호출합니다.\n",
    "class Symbol(object):\n",
    "    def __init__(self, value):\n",
    "        self.value = value\n",
    "        \n",
    "    def __eq__(self, other):\n",
    "        if isinstance(self, other.__class__):\n",
    "            return self.value == other.value\n",
    "        else:\n",
    "            return NotImplemented\n",
    "        \n",
    "if __name__ == \"__main__\":\n",
    "    x = Symbol('py')\n",
    "    y = Symbol('py')\n",
    "    \n",
    "    symbols = set()\n",
    "    symbols.add(x)\n",
    "    symbols.add(y)\n",
    "    \n",
    "    print(x is y)"
   ]
  },
  {
   "cell_type": "code",
   "execution_count": 8,
   "metadata": {},
   "outputs": [
    {
     "name": "stdout",
     "output_type": "stream",
     "text": [
      "False\n",
      "True\n"
     ]
    }
   ],
   "source": [
    "class Symbol(object):\n",
    "    def __init__(self, value):\n",
    "        self.value = value\n",
    "        \n",
    "    def __eq__(self, other):\n",
    "        if isinstance(self, other.__class__):\n",
    "            return self.value == other.value\n",
    "        else:\n",
    "            return NotImplemented\n",
    "    # 해쉬함수\n",
    "    # 임의의 길이의 데이터를 고정된 길의 데이터로 매핑하는 함수\n",
    "    def __hash__(self):\n",
    "        return hash(self.value)\n",
    "        \n",
    "if __name__ == \"__main__\":\n",
    "    x = Symbol('py')\n",
    "    y = Symbol('py')\n",
    "    \n",
    "    symbols = set()\n",
    "    symbols.add(x)\n",
    "    symbols.add(y)\n",
    "    \n",
    "    print(x is y)\n",
    "    print(x == y)"
   ]
  },
  {
   "cell_type": "code",
   "execution_count": 9,
   "metadata": {},
   "outputs": [],
   "source": [
    "# 클래스 간의 관계를 나타내기위해서 파이썬의 모든 클래스는 상속을 사용합니다.\n",
    "# 보통 object 베이스 클래스에서 상속을 받습니다.\n",
    "# 2가지가 존재하는데\n",
    "# 합성 : 강한 연관 관계, 의존성이 강합니다.\n",
    "# 집합화 : 약한 연관 관계, 독립성이 강합니다."
   ]
  },
  {
   "cell_type": "code",
   "execution_count": 10,
   "metadata": {},
   "outputs": [],
   "source": [
    "# 원 클래스를 만듭니다.\n",
    "# 상속을 통해서 만드는데\n",
    "# 원의 넓이, 둘레, 원점에서의 원의 끝거리 메서드\n",
    "# 좌표를 반환하는 메서드로 만들어주세요.\n",
    "import math\n",
    "class Point(object):\n",
    "    def __init__(self, x=0, y=0):\n",
    "        self.x = x\n",
    "        self.y = y\n",
    "        \n",
    "    def distance_from_origin(self):\n",
    "    # math.hypot : 유클리드 표준 제곱근 공식\n",
    "    # (x * x + y * y)\n",
    "        return math.hypot(self.x, self.y)\n",
    "    \n",
    "    def __eq__(self, other):\n",
    "        return self.x == other.x and self.y == other.y\n",
    "    \n",
    "    def __repr__(self):\n",
    "        return \"Point ({0.x!r}, {0.y!r})\".format(self)\n",
    "    \n",
    "    def __str__(self):\n",
    "        return \"({0.x!r}, {0.y!r})\".format(self)\n",
    "    \n",
    "    \n",
    "    \n",
    "class Circle(Point):\n",
    "    def __init__(self, radius, x=0, y=0):\n",
    "        super().__init__(x, y)\n",
    "        self.radius = radius\n",
    "    \n",
    "    \n",
    "    def edge_distance_from_origin(self):\n",
    "        return abs(self.distance_from_origin() - self.radius)\n",
    "    \n",
    "    def area(self):\n",
    "        return math.pi * (self.radius ** 2)\n",
    "    \n",
    "    def circumference(self):\n",
    "        return 2 * math.pi * self.radius\n",
    "    \n",
    "    def __eq__(self, other):\n",
    "        return self.radius == other.radius and super().__eq__(other)\n",
    "    \n",
    "    def __repr__(self):\n",
    "        return \"circle ({0.raidus!r}, {0.x!r})\".format(self)\n",
    "    \n",
    "    def __str__(self):\n",
    "        return repr(self)"
   ]
  },
  {
   "cell_type": "code",
   "execution_count": 12,
   "metadata": {},
   "outputs": [
    {
     "name": "stdout",
     "output_type": "stream",
     "text": [
      "(3, 4)\n",
      "Point (3, 4)\n"
     ]
    }
   ],
   "source": [
    "a = Point(3, 4)\n",
    "print(a)\n",
    "print(repr(a))"
   ]
  },
  {
   "cell_type": "code",
   "execution_count": null,
   "metadata": {},
   "outputs": [],
   "source": []
  }
 ],
 "metadata": {
  "kernelspec": {
   "display_name": "Python 3",
   "language": "python",
   "name": "python3"
  },
  "language_info": {
   "codemirror_mode": {
    "name": "ipython",
    "version": 3
   },
   "file_extension": ".py",
   "mimetype": "text/x-python",
   "name": "python",
   "nbconvert_exporter": "python",
   "pygments_lexer": "ipython3",
   "version": "3.7.3"
  }
 },
 "nbformat": 4,
 "nbformat_minor": 2
}
