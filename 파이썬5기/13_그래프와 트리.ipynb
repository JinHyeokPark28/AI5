{
 "cells": [
  {
   "cell_type": "code",
   "execution_count": 1,
   "metadata": {},
   "outputs": [],
   "source": [
    "#용어\n",
    "# 그래프 : 여러 노드nord(정점vertex)들이 간선(edge), 아크(arc)로 연결된\n",
    "# 추상 네트워크를 말합니다.\n",
    "# 아크 ? 방향성\n",
    "# 그래프는 노드와 간선의 집합으로 정의\n",
    "# G = (V, E)\n",
    "# V : 유한 집합\n",
    "# E : 노드 쌍들의 집합\n",
    "\n",
    "# V = [a,b,c,d]\n",
    "# E = {{a,b}, {b, c}, {c, d}, {d, a}}\n",
    "\n",
    "# 그래프 방향\n",
    "# 두가지의 방향\n",
    "# 유향, 무향\n",
    "# 무향 : 간선의 방향이 지정되어 있지 않습니다.\n",
    "# 간선으로 연결된 노드는 서로 인접해 있으며 이웃이라고 합니다.\n",
    "\n",
    "# 유향 : 순서가 존재하며 말단 노드가 존재합니다.\n",
    "# u, v라는 노드가 있다면\n",
    "# u -> v\n",
    "# v -> u\n",
    "# E(G) V(G)에 대핱 관계라고 볼수있다."
   ]
  },
  {
   "cell_type": "code",
   "execution_count": 2,
   "metadata": {},
   "outputs": [],
   "source": [
    "# 부분 그래프\n",
    "# 집합 V, 집합 E로 구성된 그래프의 일부\n",
    "\n",
    "# 신장 부분 그래프\n",
    "# 원본 그래프의 모든 노드를 포함하는 부분"
   ]
  },
  {
   "cell_type": "code",
   "execution_count": 3,
   "metadata": {},
   "outputs": [],
   "source": [
    "# 완전 그래프\n",
    "# 그래프의 모든 노드가 서로 인접한 그래프를 말합니다.\n",
    "\n",
    "# 차수\n",
    "# 간선의 수\n",
    "# 차수가 0인 노드는 고립되었다\n",
    "# 유향 그래프는 입력차수 출력차수로 나누어지는데\n",
    "# 입력차수는 한 노드로 들어오는 간선 수를 말하며,\n",
    "# 출력 차수는 한 노드에서 나가는 간선 수를 말합니다.\n",
    "\n",
    "# 경로 : 간선이 어느 노드로도 다시 방문하지 않고 노드가 일렬로 연결된 그래프 \n",
    "# 유향 그래프에서 경로는 간선의 방향을 따릅니다.\n",
    "\n",
    "# 보행 : 노드의 간선을 번갈아 가며 반복적으로 방문하는 노드의 간선입니다.\n",
    "# 경로는 노드와 간선이 중복되지 않은 보행과 같습니다.\n",
    "\n",
    "# 순환 : 경로와 같지만 마지막에 연결된 간선의 노드가 다시 첫번째 노드와 연결\n",
    "\n",
    "# 경로의 길이\n",
    "# 간선의 수와 같습니다."
   ]
  },
  {
   "cell_type": "code",
   "execution_count": 6,
   "metadata": {},
   "outputs": [
    {
     "data": {
      "text/plain": [
       "3"
      ]
     },
     "execution_count": 6,
     "metadata": {},
     "output_type": "execute_result"
    }
   ],
   "source": [
    "# 이웃함수\n",
    "# 모든 이웃의 V의 컨테이너(또는 반복이 가능한 객체)\n",
    "# 인접리스트와 인접 행렬있씁니다.\n",
    "\n",
    "# 인접리스트\n",
    "# 각 노드에서 이웃리스트(셋, 컨테이너 같은 반복 가능한 객체)에 접근할 수 있다.\n",
    "# n개의 노드가 있다면 각 노드의 인접리스트(이웃리스트)는 단순한 숫자 리스트 일때\n",
    "# 숫자로 노드에 접근이 가능한(인덱싱이 가능한) n개의 메인 리스트에 각 노드의 인접\n",
    "# 리스트를 추가하면 됩니다.\n",
    "\n",
    "#set -> 인접리스트를 만들면 된다.\n",
    "a,b,c,d,e,f = range(6)\n",
    "\n",
    "N = [{b,c,d,f}, {a,d,f}, {a,b,d,e,}, {a,e},{a,b,c}, {b,c,d,e}]\n",
    "\n",
    "a in N[f]\n",
    "len(N[b])"
   ]
  },
  {
   "cell_type": "code",
   "execution_count": 7,
   "metadata": {},
   "outputs": [],
   "source": [
    "# 리스트 방식\n",
    "# 인접리스트를 구현해보세요.\n",
    "\n",
    "N = [[b,c,d,f], [a,d,f], [a,b,d,e], [a,e],[a,b,c], [b,c,d,e]]"
   ]
  },
  {
   "cell_type": "code",
   "execution_count": 8,
   "metadata": {},
   "outputs": [
    {
     "data": {
      "text/plain": [
       "True"
      ]
     },
     "execution_count": 8,
     "metadata": {},
     "output_type": "execute_result"
    }
   ],
   "source": [
    "c in N[e]"
   ]
  },
  {
   "cell_type": "code",
   "execution_count": 9,
   "metadata": {},
   "outputs": [],
   "source": [
    "# 딕셔너리 방식\n",
    "# 2개 방식\n",
    "N = [{b:2, c:1,d:4,f:1},{a:4,d:1,f:4}]"
   ]
  },
  {
   "cell_type": "code",
   "execution_count": 10,
   "metadata": {},
   "outputs": [
    {
     "data": {
      "text/plain": [
       "True"
      ]
     },
     "execution_count": 10,
     "metadata": {},
     "output_type": "execute_result"
    }
   ],
   "source": [
    "b in N[a]"
   ]
  },
  {
   "cell_type": "code",
   "execution_count": 11,
   "metadata": {},
   "outputs": [
    {
     "data": {
      "text/plain": [
       "True"
      ]
     },
     "execution_count": 11,
     "metadata": {},
     "output_type": "execute_result"
    }
   ],
   "source": [
    "N = {'a' : set('bcdf'), 'b':set('adf')}\n",
    "'b' in N['a']"
   ]
  },
  {
   "cell_type": "code",
   "execution_count": 14,
   "metadata": {},
   "outputs": [
    {
     "data": {
      "text/plain": [
       "0"
      ]
     },
     "execution_count": 14,
     "metadata": {},
     "output_type": "execute_result"
    }
   ],
   "source": [
    "# 인접행렬\n",
    "# 각 노드의 모든 이웃에 대해 하나의 행을 갖습니다.\n",
    "# 각 행의 값은 1과 0으로 이루어져 있습니다.\n",
    "# 인접행렬은 중첩리스트로 간단하게 구현할 수 있습니다.\n",
    "# 행렬의 대각션 요소는 항상 0입니다.\n",
    "a,b,c,d,e,f = range(6)\n",
    "\n",
    "N = [[0, 1, 1, 1, 0, 1],\n",
    "    [1, 0, 0, 0, 1, 0],\n",
    "    [1, 1, 0, 1, 1, 0],\n",
    "    [1, 0, 0, 0, 1, 0],\n",
    "    [1, 1, 1, 0, 0, 0],\n",
    "    [0, 1, 1, 1, 1, 0]]\n",
    "\n",
    "N[a][a]"
   ]
  },
  {
   "cell_type": "code",
   "execution_count": null,
   "metadata": {},
   "outputs": [],
   "source": []
  }
 ],
 "metadata": {
  "kernelspec": {
   "display_name": "Python 3",
   "language": "python",
   "name": "python3"
  },
  "language_info": {
   "codemirror_mode": {
    "name": "ipython",
    "version": 3
   },
   "file_extension": ".py",
   "mimetype": "text/x-python",
   "name": "python",
   "nbconvert_exporter": "python",
   "pygments_lexer": "ipython3",
   "version": "3.8.5"
  }
 },
 "nbformat": 4,
 "nbformat_minor": 4
}
