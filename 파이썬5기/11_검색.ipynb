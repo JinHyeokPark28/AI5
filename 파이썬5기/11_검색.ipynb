{
 "cells": [
  {
   "cell_type": "code",
   "execution_count": 1,
   "metadata": {},
   "outputs": [],
   "source": [
    "# 가장 일반적인 검색 알고리즘\n",
    "# 1) 순차검색\n",
    "# 2) 이진검색\n",
    "\n",
    "# 순차검색 : 배열이 정렬되어있지 않거나 연결 리스트와 같이\n",
    "# 입력이 동적으로 할당되는 경우 흔히 사용됩니다.\n",
    "\n",
    "# 시간복잡도 : O(1) 최선, O(n/2) 평균, O(n)최악\n",
    "\n",
    "# 이진검색 : 배열이 정렬되어 있는 경우 사용할 수 있는 최선의 선택\n",
    "# 해시 테이블을 통해서 보조 메모리하고 키를 이용하면 원하는 값에\n",
    "# 검색을 할수있다.\n"
   ]
  },
  {
   "cell_type": "code",
   "execution_count": 3,
   "metadata": {},
   "outputs": [
    {
     "name": "stdout",
     "output_type": "stream",
     "text": [
      "테스트 통과\n"
     ]
    }
   ],
   "source": [
    "# 순차 검색 알고리즘?\n",
    "def sequential_search(seq, n):\n",
    "    for item in seq:\n",
    "        if item == n:\n",
    "            return True\n",
    "    return False\n",
    "\n",
    "if __name__ == \"__main__\":\n",
    "    seq = [1, 5, 6, 8, 3]\n",
    "    n1 = 3\n",
    "    assert(sequential_search(seq, n1) is True)\n",
    "    print(\"테스트 통과\")"
   ]
  },
  {
   "cell_type": "code",
   "execution_count": 11,
   "metadata": {},
   "outputs": [
    {
     "name": "stdout",
     "output_type": "stream",
     "text": [
      "테스트 통과\n"
     ]
    }
   ],
   "source": [
    "# 리스트안에 검색하려는 항목이 없을 경우 검색하려는 항목이 있을 때와\n",
    "# 같은 실행 시간을 갖는 메서드를 만들기/\n",
    "def sequential_search(seq, n):\n",
    "    item = 0\n",
    "    for item in seq:\n",
    "        if item > n:\n",
    "            return False\n",
    "        if item == n:\n",
    "            return True\n",
    "    return False\n",
    "\n",
    "if __name__ == \"__main__\":\n",
    "    seq = [1,3, 5, 6, 8]\n",
    "    n1 = 3\n",
    "    assert(sequential_search(seq, n1) is True)\n",
    "    print(\"테스트 통과\")"
   ]
  },
  {
   "cell_type": "code",
   "execution_count": 6,
   "metadata": {},
   "outputs": [
    {
     "name": "stdout",
     "output_type": "stream",
     "text": [
      "3\n"
     ]
    }
   ],
   "source": [
    "# 이진 검색\n",
    "# 정렬된 배열 내에서 지정된 입력값의 위치(키) 찾습니다.\n",
    "# 이진 검색은 알고리즘의 각 단계에서 입력값과 배열 중간 요소를 비교합니다.\n",
    "# 입력값과 중간요소가 일치한다면 배열의 위치가 반환\n",
    "# 중간 요소의 왼쪽 하위 배열에서 검색 과정을 반복하며\n",
    "# 입력값이 중간 요소보다 큰 경우 중간 요소의\n",
    "# 오른쪽 하위 배열에서 검색 과정 반복\n",
    "# 이진 검색 만들기!\n",
    "def binary_search_rec(seq, target, low, high):\n",
    "    if low > high :\n",
    "        return None\n",
    "    mid = (low + high) // 2\n",
    "    if target == seq[mid]:\n",
    "        return mid\n",
    "    elif target < seq[mid]:\n",
    "        return binary_search_rec(seq, target, low, mid - 1)\n",
    "    else:\n",
    "        return binary_search_rec(seq, target, mid + 1, high)\n",
    "    \n",
    "def test_binary_search():\n",
    "    seq = [1,2,5,6,7,10,12,12,14,15]\n",
    "    target = 6\n",
    "#     assert(binary_search_rec(seq, target, 0, len(seq) == 3) is False)\n",
    "    print(binary_search_rec(seq, target, 0, len(seq)))\n",
    "    \n",
    "if __name__ == \"__main__\":\n",
    "    test_binary_search()\n"
   ]
  },
  {
   "cell_type": "code",
   "execution_count": 7,
   "metadata": {},
   "outputs": [],
   "source": [
    "# 행렬 검색\n",
    "# 각 행과 열이 정렬되어 있는 행렬에서 한 항목을 검색한다고 할때\n",
    "# 모든 행에서 왼쪽에서 오른쪽으로 모든 열은 위에서 아래로 정렬되어 있다.\n",
    "# 이를 이용해서 해당행렬 검색이 맞는지 틀린지 확인해보세요\n",
    "# m1 = [[1,2,8,9], [2,4,9,12],[4,7,10,13],[6,8,11,15]]\n",
    "def matrix_bool(m1, value):\n",
    "    found = False\n",
    "    row = 0\n",
    "    col = len(m1[0]) - 1\n",
    "    while row < len(m1) and col >= 0:\n",
    "        if m1[row][col] == value:\n",
    "            found = True\n",
    "            break\n",
    "        elif m1[row][col] > value:\n",
    "            col -= 1\n",
    "        else:\n",
    "            row += 1\n",
    "    return found\n",
    "\n",
    "def test():\n",
    "    m1 = [[1,2,8,9], [2,4,9,12],[4,7,10,13],[6,8,11,15]]\n",
    "    assert(matrix_bool(m1, 8) is True)\n",
    "    print(\"통과했습니다.\")\n",
    "    \n"
   ]
  },
  {
   "cell_type": "code",
   "execution_count": 8,
   "metadata": {},
   "outputs": [
    {
     "name": "stdout",
     "output_type": "stream",
     "text": [
      "통과했습니다.\n"
     ]
    }
   ],
   "source": [
    "test()"
   ]
  },
  {
   "cell_type": "code",
   "execution_count": 2,
   "metadata": {},
   "outputs": [
    {
     "name": "stdout",
     "output_type": "stream",
     "text": [
      "통과!\n"
     ]
    }
   ],
   "source": [
    "# 한행의 마지막 숫자가 다음 행의 첫번재 숫자보다 작습니다.\n",
    "# 모든 행은 오름차순으로 정렬이 되어 있습니다.\n",
    "# 이 행렬에서 어떤 숫잘르 브루트포스로 검색을 하는 알고리즘을\n",
    "# 만들어주세요\n",
    "# 모든행은 정렬되어 있기 때문에 1차원 배열로 볼수 있습니다.\n",
    "def searching_matrix(m1, value):\n",
    "    rows = len(m1)\n",
    "    cols = len(m1[0])\n",
    "    lo = 0\n",
    "    hi = rows * cols\n",
    "    while lo < hi:\n",
    "        mid = (lo + hi) // 2\n",
    "        row = mid // cols\n",
    "        col = mid % cols\n",
    "        val = m1[row][col]\n",
    "        if val == value:\n",
    "            return True\n",
    "        elif val > value:\n",
    "            hi = mid\n",
    "        else:\n",
    "            lo = mid\n",
    "    return False\n",
    "\n",
    "def test():\n",
    "    a = [[1,3,5], [7,9,11], [13,15,17]]\n",
    "    assert(searching_matrix(a, 13)is True)\n",
    "    print(\"통과!\")\n",
    "test()"
   ]
  },
  {
   "cell_type": "code",
   "execution_count": 3,
   "metadata": {},
   "outputs": [
    {
     "name": "stdout",
     "output_type": "stream",
     "text": [
      "12\n",
      "통과!!\n"
     ]
    }
   ],
   "source": [
    "# 단봉형 배열\n",
    "# 산포도를 그릴때 값이 증가했다가 다시 감소하는 곡선\n",
    "# 이진검색을 통해 최대값을 찾아보세요\n",
    "\n",
    "def find_unimodal_array(A):\n",
    "    if len(A) <= 2:\n",
    "        return None\n",
    "    left = 0\n",
    "    right = len(A) - 1\n",
    "    while right > left + 1:\n",
    "        mid = (left + right ) // 2\n",
    "        if A[mid] > A[mid-1] and A[mid] > A[mid+1]:\n",
    "            return A[mid]\n",
    "        elif A[mid] > A[mid-1] and A[mid] < A[mid+1]:\n",
    "            left = mid\n",
    "        else:\n",
    "            right = mid\n",
    "    return None\n",
    "\n",
    "def test():\n",
    "    seq = [1,2,5,6,7,10,12,9,8,7,6]\n",
    "    print(max(seq))\n",
    "    assert(find_unimodal_array(seq) == max(seq))\n",
    "    print(\"통과!!\")\n",
    "    \n",
    "test()"
   ]
  },
  {
   "cell_type": "code",
   "execution_count": 3,
   "metadata": {},
   "outputs": [
    {
     "name": "stdout",
     "output_type": "stream",
     "text": [
      "1.4140625\n",
      "1.4142135623730951\n"
     ]
    }
   ],
   "source": [
    "# 이진검색을 통해서 제곱근을 구해보세요.\n",
    "# 주의 -> 에러율을 생각해서 만ㄷ르어야된다.\n",
    "# error = 0.001\n",
    "import math\n",
    "# math.sqrt(2)\n",
    "\n",
    "def find_sqrt(n, error=0.001):\n",
    "    lower = n < 1 and n or 1\n",
    "    upper = n < 1 and 1 or n\n",
    "    mid = lower + (upper - lower) / 2.0\n",
    "    square = mid * mid\n",
    "    while abs(square-n) > error:\n",
    "        if square < n:\n",
    "            lower = mid\n",
    "        else:\n",
    "            upper = mid\n",
    "        mid = lower + (upper - lower) / 2.0\n",
    "        square = mid * mid\n",
    "    return mid\n",
    "\n",
    "if __name__ == \"__main__\":\n",
    "    a = 2\n",
    "    print(find_sqrt(a))\n",
    "    print(math.sqrt(a))"
   ]
  },
  {
   "cell_type": "code",
   "execution_count": null,
   "metadata": {},
   "outputs": [],
   "source": []
  }
 ],
 "metadata": {
  "kernelspec": {
   "display_name": "Python 3",
   "language": "python",
   "name": "python3"
  },
  "language_info": {
   "codemirror_mode": {
    "name": "ipython",
    "version": 3
   },
   "file_extension": ".py",
   "mimetype": "text/x-python",
   "name": "python",
   "nbconvert_exporter": "python",
   "pygments_lexer": "ipython3",
   "version": "3.8.5"
  }
 },
 "nbformat": 4,
 "nbformat_minor": 4
}
