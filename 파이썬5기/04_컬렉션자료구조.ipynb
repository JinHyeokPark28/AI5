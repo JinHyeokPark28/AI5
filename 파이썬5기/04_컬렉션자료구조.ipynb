{
 "cells": [
  {
   "cell_type": "code",
   "execution_count": 5,
   "metadata": {},
   "outputs": [
    {
     "name": "stdout",
     "output_type": "stream",
     "text": [
      "테스트 통과했습니다!\n"
     ]
    }
   ],
   "source": [
    "# 에너그램\n",
    "# 단어나 문장의 철자 순서를 바꾸는 것을 의미합니다.\n",
    "# 첫번째 문자열의 문자 발생 횟수를 더해서 딕셔너리에 저장\n",
    "# 두번째 문자열의 문자 발생 횟수를 빼서 딕셔너리에 저장\n",
    "# 딕셔너리 두개를 비교해서 0이라면 두 문자는 에너그램이다\n",
    "from collections import Counter\n",
    "\n",
    "def anagram(s1, s2):\n",
    "    counter = Counter()\n",
    "    for c in s1:\n",
    "        counter[c] += 1\n",
    "    for c in s2:\n",
    "        counter[c] -= 1\n",
    "    for i in counter.values():\n",
    "        if i:\n",
    "            return False\n",
    "    return True\n",
    "\n",
    "def main():\n",
    "    s1 = 'youtube'\n",
    "    s2 = 'yuutobe'\n",
    "    assert(anagram(s1, s2)is True)\n",
    "    print('테스트 통과했습니다!')\n",
    "    \n",
    "if __name__ == \"__main__\":\n",
    "    main()"
   ]
  },
  {
   "cell_type": "code",
   "execution_count": 12,
   "metadata": {},
   "outputs": [
    {
     "name": "stdout",
     "output_type": "stream",
     "text": [
      "[5, [[2, 6], [3, 5], [4, 4], [5, 3], [6, 2]]]\n"
     ]
    }
   ],
   "source": [
    "# 주사위 합계 경로\n",
    "# 주사위를 두개 던졌을 때 합계가 특정수로 나오는 경우의 수와 경로를 구합니다.\n",
    "# 함수이름(5)\n",
    "# 4 [1,4],[2,3],[3,2],[4,1]\n",
    "# cdict = Counter()\n",
    "# ddict = defaultdict\n",
    "from collections import defaultdict, Counter\n",
    "def dice(S, faces=6):\n",
    "    if S > 2 * faces or S < 2:\n",
    "        return None\n",
    "    cdict = Counter()\n",
    "    ddict = defaultdict(list)\n",
    "    \n",
    "    # 두 주사위의 합을 모두 더한뒤 딕셔너리에 넣습니다.\n",
    "    for dice1 in range(1, faces+1):\n",
    "        for dice2 in range(1, faces+1):\n",
    "            t = [dice1, dice2]\n",
    "            cdict[dice1 + dice2] += 1\n",
    "            ddict[dice1 + dice2].append(t)\n",
    "    return [cdict[S], ddict[S]]\n",
    "\n",
    "def main():\n",
    "    S = 8\n",
    "    result = dice(S)\n",
    "    print(result)\n",
    "    \n",
    "if __name__ ==\"__main__\" :\n",
    "    main()"
   ]
  },
  {
   "cell_type": "code",
   "execution_count": 26,
   "metadata": {},
   "outputs": [
    {
     "name": "stdout",
     "output_type": "stream",
     "text": [
      "테스트 통과!!\n"
     ]
    }
   ],
   "source": [
    "# 중복되는 단어를 모두 찾아서 제거하는 프로그램을 제작합니다.\n",
    "# google가 있다면 'le' 만 남아있다면\n",
    "# '테스트 성공!'이라는 결과값이 나오게 해주세요!\n",
    "import string\n",
    "# string.ascii_lowercase : 알파벳을 가져옵니다.\n",
    "def delete_word(str1):\n",
    "    word_table = {key : 0 for key in string.ascii_lowercase}\n",
    "    for i in str1:\n",
    "        word_table[i] += 1\n",
    "    for key, val in word_table.items():\n",
    "        if val > 1:\n",
    "            str1 = str1.replace(key, \"\")\n",
    "    return str1\n",
    "\n",
    "def main():\n",
    "    str1 = 'google'\n",
    "    assert(delete_word(str1) == 'le')\n",
    "    print(\"테스트 통과!!\")\n",
    "    \n",
    "if __name__ == \"__main__\":\n",
    "    main()"
   ]
  },
  {
   "cell_type": "code",
   "execution_count": 25,
   "metadata": {},
   "outputs": [
    {
     "data": {
      "text/plain": [
       "'haypoe'"
      ]
     },
     "execution_count": 25,
     "metadata": {},
     "output_type": "execute_result"
    }
   ],
   "source": []
  },
  {
   "cell_type": "code",
   "execution_count": null,
   "metadata": {},
   "outputs": [],
   "source": []
  }
 ],
 "metadata": {
  "kernelspec": {
   "display_name": "Python 3",
   "language": "python",
   "name": "python3"
  },
  "language_info": {
   "codemirror_mode": {
    "name": "ipython",
    "version": 3
   },
   "file_extension": ".py",
   "mimetype": "text/x-python",
   "name": "python",
   "nbconvert_exporter": "python",
   "pygments_lexer": "ipython3",
   "version": "3.7.3"
  }
 },
 "nbformat": 4,
 "nbformat_minor": 2
}
